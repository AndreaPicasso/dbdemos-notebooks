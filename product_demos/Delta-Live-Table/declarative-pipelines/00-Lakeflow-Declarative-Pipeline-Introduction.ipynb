{
 "cells": [
  {
   "cell_type": "markdown",
   "metadata": {
    "application/vnd.databricks.v1+cell": {
     "cellMetadata": {},
     "inputWidgets": {},
     "nuid": "dd65628c-9567-4c71-971c-7bcdf2812795",
     "showTitle": false,
     "tableResultSettingsMap": {},
     "title": ""
    }
   },
   "source": [
    "## Intro to Lakeflow Declaritive Pipelines\n",
    "\n",
    "Declarative Pipelines simplify batch and streaming ETL with automated reliability and built-in data quality. Let's give it a try!\n",
    "\n",
    "## Optimizing our bike rental business - ETL pipeline\n",
    "Our fictional company operates bike rental stations across the city. The primary goal of this data pipeline is to transform raw operational data—such as ride logs, maintenance records, and weather information—into a structured and refined format, enabling comprehensive analytics. <br/>\n",
    "This allows us to track key business metrics like total revenue, forecast future earnings, understand revenue contributions from members versus non-members, and crucially, identify and quantify revenue loss due to maintenance issues. \n",
    "\n",
    "By providing these insights, the pipeline empowers us to optimize operations, improve bike availability, and ultimately maximize profitability.\n",
    "\n",
    "We'll be using as input a raw dataset containing information coming from our ride tracking system as well as data from our maintenence system as well as some weather data. Our goal is to ingest this data in near real time and build table for our analyst team while ensuring data quality.\n",
    "\n",
    "### Getting started with the new pipeline editor\n",
    "Databricks provides a [rich editor](https://github.com/databricks-demos/dbdemos-resources/blob/main/images/product/declarative-pipelines/declarative-pipelines-0.png?raw=true) to help you build and navigate through your different pipeline steps! \n",
    "\n",
    "\n",
    "\n"
   ]
  },
  {
   "cell_type": "markdown",
   "metadata": {
    "application/vnd.databricks.v1+cell": {
     "cellMetadata": {},
     "inputWidgets": {},
     "nuid": "0895afbb-518f-49ad-bcda-9d2096c4644b",
     "showTitle": false,
     "tableResultSettingsMap": {},
     "title": ""
    }
   },
   "source": [
    "#### 1/ Exploring the data\n",
    "First, open the [notebook in the Exploration folder]($./explorations/Exploring the Data) to discover our dataset.\n",
    "\n",
    "We'll consume data from 3 sources, all available to us as raw CSV or JSON file in our schema volume:\n",
    "\n",
    "- **maintenance_logs** (all the maintenance details, as csv files)\n",
    "- **rides** (the ride informations, including comments from users using the mobile application)\n",
    "- **weather** (current and forecast, as JSON file)\n"
   ]
  },
  {
   "cell_type": "markdown",
   "metadata": {
    "application/vnd.databricks.v1+cell": {
     "cellMetadata": {},
     "inputWidgets": {},
     "nuid": "809a7ae0-bb6c-4035-afc2-30b4d0d9c74d",
     "showTitle": false,
     "tableResultSettingsMap": {},
     "title": ""
    }
   },
   "source": [
    "#### 2/ Get started with Streaming Tables and Materialized view\n",
    "\n",
    "Creating your pipeline is super simple! If you're new to the Declarative Pipelines, it's best to start with the [UI introduction from the documentation](https://docs.databricks.com/aws/en/dlt/dlt-multi-file-editor)!\n",
    "\n",
    "\n",
    "\n",
    "**Your Lakeflow Declarative Pipeline has been installed and started for you!** Open the <a dbdemos-pipeline-id=\"pipeline-bike\" href=\"#joblist/pipelines/a6ba1d12-74d7-4e2d-b9b7-ca53b655f39d\" target=\"_blank\">Bike Rental Declarative Pipeline</a> to see it in action.<br/>\n",
    "*(Note: The pipeline will automatically start once the initialization job is completed, this might take a few minutes... Check installation logs for more details)*"
   ]
  },
  {
   "cell_type": "markdown",
   "metadata": {
    "application/vnd.databricks.v1+cell": {
     "cellMetadata": {},
     "inputWidgets": {},
     "nuid": "917aee75-952d-4ecf-bbfa-7574e2de1093",
     "showTitle": false,
     "tableResultSettingsMap": {},
     "title": ""
    }
   },
   "source": [
    "### 3/ Ingesting and transforming your data\n",
    "\n",
    "Now that we reviewed the data available to us, it's time to start creating our pipeline! We'll do it one step at a time.\n",
    "\n",
    "Open the [00-pipeline-tutorial notebook]($./transformations/00-pipeline-tutorial) if you want to start with the basics behind Streaming Table and Materialized View.\n",
    "\n",
    "<table>\n",
    "  <tr>\n",
    "    <td>\n",
    "      <b>Bronze: Raw data ingested into Delta tables.</b>\n",
    "      Our bronze layer contains our raw data loaded with minimal schema changes into tables using Autoloader.  \n",
    "\n",
    "Tables in our bronze layer:\n",
    "- maintenance_logs_raw\n",
    "- rides_raw\n",
    "- weather_raw\n",
    "    </td>\n",
    "    <td>\n",
    "      <b>Silver: Cleaned and enriched with data quality rules</b><br/>\n",
    "      Filter out invalid rides and to make sure our maintenance logs include useful information. Additionally we enrich our raw data with details like ride revenue and categorize our maintenance logs by what type of issue happened.<br/>\n",
    "\n",
    "Tables in our silver layer:\n",
    "- maintenance_logs\n",
    "- rides\n",
    "- weather\n",
    "    </td>\n",
    "    <td>\n",
    "      <b>Gold: Curated for analytics & AI.</b><br>\n",
    "      Aggregates data for reporting by pre-calulating how much revenue each station makes as a origin and destination as well as calculates how much revenue loss each maintenance event costs.  \n",
    "\n",
    "Tables:\n",
    "\n",
    "- maintenance_events\n",
    "- stations\n",
    "- bikes\n",
    "    </td>\n",
    "  </tr>\n",
    "  <tr>\n",
    "    <td><a href=\"$./transformations/01-bronze.sql\"><img src=\"https://github.com/databricks-demos/dbdemos-resources/blob/main/images/product/declarative-pipelines/declarative-pipelines-1.png?raw=true\" width=\"300px\" style=\"width:300px;\" /></a></td>\n",
    "    <td><a href=\"$./transformations/01-silver.sql\"><img src=\"https://github.com/databricks-demos/dbdemos-resources/blob/main/images/product/declarative-pipelines/declarative-pipelines-2.png?raw=true\" width=\"300px\" style=\"width:300px;\" /></a></td>\n",
    "    <td><a href=\"$./transformations/01-gold.sql\"><img src=\"https://github.com/databricks-demos/dbdemos-resources/blob/main/images/product/declarative-pipelines/declarative-pipelines-3.png?raw=true\" width=\"300px\" style=\"width:300px;\" /></a></td>\n",
    "  </tr>\n",
    "  <tr>\n",
    "    <td align=\"center\">Open <a href=\"$./transformations/01-bronze.sql\">transformations/01-bronze.sql</a></td>\n",
    "    <td align=\"center\">Open <a href=\"$./transformations/01-silver.sql\">transformations/01-silver.sql</a></td>\n",
    "    <td align=\"center\">Open <a href=\"$./transformations/01-gold.sql\">transformations/01-gold.sql</a></td>\n",
    "  </tr>\n",
    "</table>\n"
   ]
  },
  {
   "cell_type": "markdown",
   "metadata": {
    "application/vnd.databricks.v1+cell": {
     "cellMetadata": {},
     "inputWidgets": {},
     "nuid": "c06152fa-c598-43e4-82b2-e6ad32f7f5d4",
     "showTitle": false,
     "tableResultSettingsMap": {},
     "title": ""
    }
   },
   "source": [
    "\n",
    "### 4/ Visualizing the data with Databricks AI/BI\n",
    "\n",
    "<table>\n",
    "  <tr>\n",
    "    <td><a href=\"https://e2-demo-field-eng.cloud.databricks.com/dashboardsv3/01f02f90ecfe19f9897d61a2c7a96dbf/published?o=1444828305810485\">Business Dasbhoard</a></td>\n",
    "    <td><a href=\"https://e2-demo-field-eng.cloud.databricks.com/dashboardsv3/01f02f90ecfe19f9897d61a2c7a96dbf/published?o=1444828305810485\">Data Quality & Operation Dashboard</a></td>\n",
    "  </tr>\n",
    "  <tr>\n",
    "    <td><a href=\"$./transformations/01-bronze.sql\"><img src=\"https://github.com/databricks-demos/dbdemos-resources/blob/main/images/product/declarative-pipelines/declarative-pipelines-dashboard-1.png?raw=true\" width=\"500px\" style=\"width:300px;\" /></a></td>\n",
    "    <td><a href=\"$./transformations/01-silver.sql\"><img src=\"https://github.com/databricks-demos/dbdemos-resources/blob/main/images/product/declarative-pipelines/declarative-pipelines-dashboard-2.png?raw=true\" width=\"500px\" style=\"width:300px;\" /></a></td>\n",
    "  </tr>\n",
    "</table>\n"
   ]
  }
 ],
 "metadata": {
  "application/vnd.databricks.v1+notebook": {
   "computePreferences": null,
   "dashboards": [],
   "environmentMetadata": {
    "base_environment": "",
    "environment_version": "2"
   },
   "inputWidgetPreferences": null,
   "language": "python",
   "notebookMetadata": {
    "pythonIndentUnit": 2
   },
   "notebookName": "00-Lakeflow-Declarative-Pipeline-Introduction",
   "widgets": {}
  },
  "language_info": {
   "name": "python"
  }
 },
 "nbformat": 4,
 "nbformat_minor": 0
}
