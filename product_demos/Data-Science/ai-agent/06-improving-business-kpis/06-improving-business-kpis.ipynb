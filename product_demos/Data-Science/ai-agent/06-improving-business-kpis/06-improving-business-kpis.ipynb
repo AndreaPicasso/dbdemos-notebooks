{
 "cells": [
  {
   "cell_type": "code",
   "execution_count": 0,
   "metadata": {
    "application/vnd.databricks.v1+cell": {
     "cellMetadata": {},
     "inputWidgets": {},
     "nuid": "520024c2-670c-45f5-9a98-c2f953b7b6ed",
     "showTitle": false,
     "tableResultSettingsMap": {},
     "title": ""
    }
   },
   "outputs": [],
   "source": [
    "Linking Technical Metrics to Business KPIs\n",
    "\n",
    "The ultimate goal of GenAI optimization is business impact. Since MLflow is part of the Databricks platform, all trace and evaluation data can be synced to a Delta Table.\n",
    "\n",
    "This lets your Business Analysts who only know SQL leverage trace and evaluation data for analytics and business processes, linking GenAI interactions to business KPIs to create performance dashboards, reports, and queries with Databricks AI/BI and SQL that show the ROI of your GenAI apps."
   ]
  }
 ],
 "metadata": {
  "application/vnd.databricks.v1+notebook": {
   "computePreferences": null,
   "dashboards": [],
   "environmentMetadata": {
    "base_environment": "dbe_c75093c8-0895-475e-8c1b-6acacfe3368b",
    "environment_version": "2"
   },
   "inputWidgetPreferences": null,
   "language": "python",
   "notebookMetadata": {
    "pythonIndentUnit": 2
   },
   "notebookName": "06-improving-business-kpis",
   "widgets": {}
  },
  "language_info": {
   "name": "python"
  }
 },
 "nbformat": 4,
 "nbformat_minor": 0
}
