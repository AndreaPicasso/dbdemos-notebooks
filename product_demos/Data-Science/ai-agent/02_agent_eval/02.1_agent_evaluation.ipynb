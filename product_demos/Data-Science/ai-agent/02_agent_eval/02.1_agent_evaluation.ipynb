{
 "cells": [
  {
   "cell_type": "markdown",
   "metadata": {
    "application/vnd.databricks.v1+cell": {
     "cellMetadata": {},
     "inputWidgets": {},
     "nuid": "d0518a00-f22a-4d9f-b531-a6883aa58ade",
     "showTitle": false,
     "tableResultSettingsMap": {},
     "title": ""
    }
   },
   "source": [
    "TODO discuss with nico/niall/eric MLFlow 3.0 features here?"
   ]
  },
  {
   "cell_type": "markdown",
   "metadata": {
    "application/vnd.databricks.v1+cell": {
     "cellMetadata": {},
     "inputWidgets": {},
     "nuid": "88ffce59-dc40-4c65-ab91-9160b2108e35",
     "showTitle": false,
     "tableResultSettingsMap": {},
     "title": ""
    }
   },
   "source": [
    "Steps:\n",
    "\n",
    "- send some question from an existing dataset questions\n",
    "- track all request with mlflow tracking\n",
    "- half of the have questions about tech details (router wifi error code) and fail\n",
    "- build an eval dataset la dessus\n",
    "- feedback ?\n",
    "=> we need a rag on top, add a second agent"
   ]
  }
 ],
 "metadata": {
  "application/vnd.databricks.v1+notebook": {
   "computePreferences": null,
   "dashboards": [],
   "environmentMetadata": {
    "base_environment": "",
    "environment_version": "2"
   },
   "inputWidgetPreferences": null,
   "language": "python",
   "notebookMetadata": {
    "pythonIndentUnit": 4
   },
   "notebookName": "02.1_agent_evaluation",
   "widgets": {}
  },
  "language_info": {
   "name": "python"
  }
 },
 "nbformat": 4,
 "nbformat_minor": 0
}
