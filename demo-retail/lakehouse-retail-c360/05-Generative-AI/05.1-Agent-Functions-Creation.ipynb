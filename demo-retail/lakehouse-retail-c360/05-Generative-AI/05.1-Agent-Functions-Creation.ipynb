{
 "cells": [
  {
   "cell_type": "markdown",
   "metadata": {
    "application/vnd.databricks.v1+cell": {
     "cellMetadata": {},
     "inputWidgets": {},
     "nuid": "969f44a8-8ba4-4bfe-9855-9b11850f1547",
     "showTitle": false,
     "tableResultSettingsMap": {},
     "title": ""
    }
   },
   "source": [
    "\n",
    "# 🧠 From Predictive to Prescriptive Churn Reduction with Gen AI\n",
    "\n",
    "---\n",
    "\n",
    "Retailers face increasing customer churn, rising acquisition costs, and fierce competition, making customer retention more critical than ever.\n",
    "Despite investments in loyalty programs and CRM systems, many struggle with fragmented customer data, ineffective engagement strategies, and the inability to act in real-time—resulting in missed opportunities and declining customer lifetime value.\n",
    "\n",
    "<div style=\"background: #f7f7f7; border-left: 5px solid #ff5f46; padding: 20px; margin: 20px 0; font-size: 18px;\">\n",
    "\"A recent review of the State of Customer Churn revealed that the <b>average churn rate</b> for the entire business sector is <b>6.58%</b>, far higher than the <b>ideal rate of 3-5%</b>.\"[^3]\n",
    "</div>\n",
    "\n",
    "<div style=\"background: #f7f7f7; border-left: 5px solid green; padding: 20px; margin: 20px 0; font-size: 18px;\">\n",
    "\"With <b>prescriptive analytics</b> in place, decision makers can quickly extract <b>actionable knowledge</b> from the available data and define <b>effective actions</b> for the future.\"[^2]\n",
    "</div>\n",
    "\n",
    "<img src=\"https://raw.githubusercontent.com/databricks-demos/dbdemos-resources/refs/heads/main/images/liza.png\" style=\"width: 100px; vertical-align: middle; margin-right: 10px; float: left;\" />\n",
    "<br>\n",
    "Liza, a Generative AI Engineer, is going to utilize Databricks AI in order to create a prescriptive system for her company to reduce customer churn. She will use the full power of her company's data platform to create tailored advertising to her at-risk customers to encourage new purchases.\n",
    "\n",
    "[^1]: https://www.qualtrics.com/experience-management/customer/customer-churn/\n",
    "\n",
    "[^2]: https://voziq.ai/featured/prescriptive-analytics-for-churn-reduction/\n",
    "\n",
    "[^3]: https://www.custify.com/blog/customer-churn-guide/\n",
    "\n",
    "[^4]: https://www.infobip.com/blog/how-generative-ai-can-help-reduce-churn\n",
    "\n",
    "[^5]: https://www.salesforce.com/sales/analytics/customer-churn/\n",
    "\n",
    "[^6]: https://graphite-note.com/customer-churn-prevention-predictive-analytics/\n",
    "\n",
    "[^7]: https://churnzero.com/blog/customer-success-statistics/\n",
    "\n",
    "[^8]: https://www.b2brocket.ai/blog-posts/ai-powered-churn-prediction\n",
    "\n"
   ]
  },
  {
   "cell_type": "markdown",
   "metadata": {
    "application/vnd.databricks.v1+cell": {
     "cellMetadata": {},
     "inputWidgets": {},
     "nuid": "34a806bb-6135-4268-83ba-74fd366eec9e",
     "showTitle": false,
     "tableResultSettingsMap": {},
     "title": ""
    }
   },
   "source": [
    "## The Demo: Generative AI for Smarter Churn Reduction  \n",
    "<!-- \n",
    "<img src=\"https://raw.githubusercontent.com/databricks-demos/dbdemos-resources/refs/heads/main/images/retail/lakehouse-churn/lakehouse-retail-c360-agent-functions.png\" \n",
    "     style=\"float: right; margin-top: 10px; width: 700px; display: block;\" /> -->\n",
    "\n",
    "Databricks Generative AI is redefining churn management by allowing organizations to shift from reactive retention to proactive customer engagement. Unlike traditional predictive models that simply flag at-risk customers, Databricks AI Agent Systems allow to use those predictive models in a high-value business context.  \n",
    "\n",
    "In this demo, we show a simple use-case for Databricks to help reduce customer churn. We will create an AI agent using the following functions, defined in the subsequent cells:\n",
    "\n",
    "\n",
    "1. **Customer Churn Prediction**: We will create a function that will allow our GenAI agent to determine if a customer is at risk of churn, based on the AutoML model we defined in **section 4** of this demo.\n",
    "2. **Customer Order Lookup**: Then, our agent needs to be able to look up that at-risk-of-churn customer's most recent orders in order to create personalized outreach.\n",
    "3. **Personalized Customer Outreach**: Finally, our agent will use this outreach function to piece together a personalized ad outreach based on the customer's demographics and purchase history to keep them engaged and a buying customer!\n",
    "\n",
    "By leveraging Generative AI, retailers can move beyond predicting churn to actively **preventing it—turning potential losses into fruitful customer relationships**.   \n",
    "\n",
    "\n",
    "\n",
    "<!-- Architecture doc: https://docs.google.com/presentation/d/1YzY7jj4GVXaEUjVPFPI74qgy00mVO6rWXHwv6iz0-lM/edit#slide=id.gf7b9ec9ce5_0_1087 -->\n"
   ]
  },
  {
   "cell_type": "code",
   "execution_count": 0,
   "metadata": {
    "application/vnd.databricks.v1+cell": {
     "cellMetadata": {},
     "inputWidgets": {},
     "nuid": "a0c7e6e6-4407-4db0-86d2-4fc9e02a8426",
     "showTitle": false,
     "tableResultSettingsMap": {},
     "title": ""
    }
   },
   "outputs": [],
   "source": [
    "%pip install mlflow==2.20.1 databricks-vectorsearch==0.40 databricks-feature-engineering==0.8.0 databricks-sdk==0.40.0\n",
    "dbutils.library.restartPython()"
   ]
  },
  {
   "cell_type": "code",
   "execution_count": 0,
   "metadata": {
    "application/vnd.databricks.v1+cell": {
     "cellMetadata": {},
     "inputWidgets": {},
     "nuid": "511c267d-7102-4c9c-b4ea-b03c818bdc06",
     "showTitle": false,
     "tableResultSettingsMap": {},
     "title": ""
    }
   },
   "outputs": [],
   "source": [
    "%run ../_resources/00-setup $reset_all_data=false"
   ]
  },
  {
   "cell_type": "markdown",
   "metadata": {
    "application/vnd.databricks.v1+cell": {
     "cellMetadata": {},
     "inputWidgets": {},
     "nuid": "d13ef406-ca66-4f63-a4b6-6f92cd294bfe",
     "showTitle": false,
     "tableResultSettingsMap": {},
     "title": ""
    }
   },
   "source": [
    "## Function 1: Customer Churn Prediction\n",
    "\n"
   ]
  },
  {
   "cell_type": "code",
   "execution_count": 0,
   "metadata": {
    "application/vnd.databricks.v1+cell": {
     "cellMetadata": {},
     "inputWidgets": {},
     "nuid": "0e93a4c4-3c48-4e19-aa18-48bebdcac43a",
     "showTitle": false,
     "tableResultSettingsMap": {},
     "title": ""
    }
   },
   "outputs": [],
   "source": [
    "spark.sql(\"DROP FUNCTION IF EXISTS churn_predictor\")\n",
    "\n",
    "spark.sql(f\"\"\"\n",
    "          CREATE OR REPLACE FUNCTION churn_predictor(id STRING)\n",
    "RETURNS STRING\n",
    "LANGUAGE SQL\n",
    "COMMENT 'This tool predicts if a customer is at risk of churning'\n",
    "RETURN\n",
    "(\n",
    "    SELECT CASE \n",
    "             WHEN ai_query(\n",
    "                    'dbdemos_customer_churn_endpoint', \n",
    "                    named_struct(\n",
    "                        'user_id', user_id,\n",
    "                        'canal', MAX(canal),\n",
    "                        'country', MAX(country),\n",
    "                        'gender', MAX(gender),\n",
    "                        'age_group', MAX(age_group),\n",
    "                        'order_count', MAX(order_count),\n",
    "                        'total_amount', MAX(total_amount),\n",
    "                        'total_item', MAX(total_item),\n",
    "                        'last_transaction', MAX(last_transaction),\n",
    "                        'platform', MAX(platform),\n",
    "                        'event_count', MAX(event_count),\n",
    "                        'session_count', MAX(session_count),\n",
    "                        'days_since_creation', MAX(days_since_creation),\n",
    "                        'days_since_last_activity', MAX(days_since_last_activity),\n",
    "                        'days_last_event', MAX(days_last_event)\n",
    "                    ),\n",
    "                    'STRING'\n",
    "                 ) = '0' THEN 'NOT AT RISK'\n",
    "             ELSE 'AT RISK'\n",
    "           END\n",
    "    FROM {catalog}.{db}.churn_user_features\n",
    "    WHERE user_id = id GROUP BY user_id\n",
    ")\"\"\")"
   ]
  },
  {
   "cell_type": "markdown",
   "metadata": {
    "application/vnd.databricks.v1+cell": {
     "cellMetadata": {},
     "inputWidgets": {},
     "nuid": "84f04fad-1be1-471b-bad0-d40ea2726169",
     "showTitle": false,
     "tableResultSettingsMap": {},
     "title": ""
    }
   },
   "source": [
    "### Example:"
   ]
  },
  {
   "cell_type": "code",
   "execution_count": 0,
   "metadata": {
    "application/vnd.databricks.v1+cell": {
     "cellMetadata": {},
     "inputWidgets": {},
     "nuid": "cb666545-2664-4d3d-8b1a-9f537235b6e9",
     "showTitle": false,
     "tableResultSettingsMap": {},
     "title": ""
    }
   },
   "outputs": [],
   "source": [
    "%sql\n",
    "SELECT churn_predictor(\n",
    "    '2d17d7cd-38ae-440d-8485-34ce4f8f3b46'\n",
    ") AS prediction\n"
   ]
  },
  {
   "cell_type": "markdown",
   "metadata": {
    "application/vnd.databricks.v1+cell": {
     "cellMetadata": {},
     "inputWidgets": {},
     "nuid": "27144e99-4bd8-4f82-bcd4-eb7c9a0c0531",
     "showTitle": false,
     "tableResultSettingsMap": {},
     "title": ""
    }
   },
   "source": [
    "##Function 2: Customer Order Lookup"
   ]
  },
  {
   "cell_type": "code",
   "execution_count": 0,
   "metadata": {
    "application/vnd.databricks.v1+cell": {
     "cellMetadata": {},
     "inputWidgets": {},
     "nuid": "bab0edfe-a0df-4ec2-8169-368bf05687f4",
     "showTitle": false,
     "tableResultSettingsMap": {},
     "title": ""
    }
   },
   "outputs": [],
   "source": [
    "from pyspark.sql import functions as F\n",
    "\n",
    "(spark.read.table(\"churn_orders\").dropDuplicates([\"order_id\"])\n",
    " .withColumn(\"order_description\", F.concat(F.lit(\"The user most recently executed a purchase transaction with id \"), F.col(\"order_id\"), F.lit(\" with \"), F.col(\"item_count\"), F.lit(\" item(s), worth a total dollar amount of $\"), F.col(\"amount\"), F.lit(\" which was executed on \"), F.date_format(F.col(\"creation_date\"), \"yyyy-MM-dd\")))\n",
    " .select(\"user_id\", \"order_description\", \"creation_date\")\n",
    " ).write.option(\"overwriteSchema\", \"true\").mode(\"overwrite\").saveAsTable(\"churn_orders_description\")\n",
    "\n",
    "display(spark.table(\"churn_orders_description\"))"
   ]
  },
  {
   "cell_type": "code",
   "execution_count": 0,
   "metadata": {
    "application/vnd.databricks.v1+cell": {
     "cellMetadata": {},
     "inputWidgets": {},
     "nuid": "dc485897-1d9a-453d-93fe-e42aa857206c",
     "showTitle": false,
     "tableResultSettingsMap": {},
     "title": ""
    }
   },
   "outputs": [],
   "source": [
    "spark.sql(\"DROP TABLE IF EXISTS churn_orders_lookup\")\n",
    "spark.sql(f\"\"\"\n",
    "  CREATE OR REPLACE FUNCTION churn_orders_lookup(id STRING)\n",
    "  RETURNS STRING\n",
    "  LANGUAGE SQL\n",
    "  RETURN (\n",
    "    SELECT order_description\n",
    "    FROM {catalog}.{db}.churn_orders_description\n",
    "    WHERE user_id = id\n",
    "    ORDER BY creation_date DESC\n",
    "    LIMIT 1\n",
    "  )\n",
    "\"\"\")"
   ]
  },
  {
   "cell_type": "markdown",
   "metadata": {
    "application/vnd.databricks.v1+cell": {
     "cellMetadata": {},
     "inputWidgets": {},
     "nuid": "225714e6-7c21-48fd-ad75-3b332611efe7",
     "showTitle": false,
     "tableResultSettingsMap": {},
     "title": ""
    }
   },
   "source": [
    "### Example:"
   ]
  },
  {
   "cell_type": "code",
   "execution_count": 0,
   "metadata": {
    "application/vnd.databricks.v1+cell": {
     "cellMetadata": {},
     "inputWidgets": {},
     "nuid": "e7d9807b-a88a-4679-ab37-6ea28e9b4832",
     "showTitle": false,
     "tableResultSettingsMap": {},
     "title": ""
    }
   },
   "outputs": [],
   "source": [
    "%sql\n",
    "SELECT churn_orders_lookup(\"f3d4a9f9-47c5-4fba-96e9-c2c55fb20676\")"
   ]
  },
  {
   "cell_type": "markdown",
   "metadata": {
    "application/vnd.databricks.v1+cell": {
     "cellMetadata": {},
     "inputWidgets": {},
     "nuid": "ccdcdd22-c3b4-46a7-81ef-e887990fea26",
     "showTitle": false,
     "tableResultSettingsMap": {},
     "title": ""
    }
   },
   "source": [
    "##Function 3: Personalized Customer Outreach"
   ]
  },
  {
   "cell_type": "code",
   "execution_count": 0,
   "metadata": {
    "application/vnd.databricks.v1+cell": {
     "cellMetadata": {},
     "inputWidgets": {},
     "nuid": "430f3d6d-9da6-4554-b2ae-ab7f13bd191e",
     "showTitle": false,
     "tableResultSettingsMap": {},
     "title": ""
    }
   },
   "outputs": [],
   "source": [
    "spark.sql(f\"\"\"\n",
    "  CREATE OR REPLACE FUNCTION user_details_lookup (\n",
    "    input_user_id STRING\n",
    "    COMMENT 'User ID of the customer to be searched'\n",
    "  ) \n",
    "  RETURNS TABLE(\n",
    "    firstname STRING,\n",
    "    user_id STRING,\n",
    "    channel STRING,\n",
    "    country STRING,\n",
    "    gender INT,\n",
    "    age_group INT,\n",
    "    generation STRING,\n",
    "    churn INT,\n",
    "    days_since_last_activity INT,\n",
    "    todays_date TIMESTAMP\n",
    "  )\n",
    "  COMMENT \"This function returns the customer details for a given customer User ID. The return fields include First Name, User ID, Channel (e.g. Mobile App, Phone, or Web App/Browser ), Country of Residence, Gender, Age Group, Generation, Churn flag (1 for predicted churn, 0 otherwise), Days Since Last Activity, and the Current Date (the format is yyyy-MM-ddTHH:mm:ss.SSS). Use this function when a User ID is given.\" \n",
    "  RETURN (\n",
    "    SELECT\n",
    "      firstname,\n",
    "      user_id,\n",
    "      canal as channel,\n",
    "      country,\n",
    "      gender,\n",
    "      age_group,\n",
    "      CASE\n",
    "        when age_group between 0\n",
    "        and 2 then \"Generation Alpha\"\n",
    "        when age_group between 3\n",
    "        and 4 then \"Generation Z\"\n",
    "        when age_group between 5\n",
    "        and 6 then \"Millennials\"\n",
    "        when age_group between 7\n",
    "        and 8 then \"Generation X\"\n",
    "        when age_group between 9\n",
    "        and 10 then \"Baby Boomers\"\n",
    "      END AS generation,\n",
    "      churn,\n",
    "      days_since_last_activity,\n",
    "      getdate() as todays_date\n",
    "    FROM \n",
    "      {catalog}.{db}.churn_prediction\n",
    "    WHERE\n",
    "      user_id = input_user_id\n",
    "  )\n",
    "\"\"\")"
   ]
  },
  {
   "cell_type": "markdown",
   "metadata": {
    "application/vnd.databricks.v1+cell": {
     "cellMetadata": {},
     "inputWidgets": {},
     "nuid": "835bc226-1c87-48e3-9d14-7f622e8c80fd",
     "showTitle": false,
     "tableResultSettingsMap": {},
     "title": ""
    }
   },
   "source": [
    "### Example:"
   ]
  },
  {
   "cell_type": "code",
   "execution_count": 0,
   "metadata": {
    "application/vnd.databricks.v1+cell": {
     "cellMetadata": {},
     "inputWidgets": {},
     "nuid": "92c18fff-1cc6-434e-9595-b323f3e89379",
     "showTitle": false,
     "tableResultSettingsMap": {},
     "title": ""
    }
   },
   "outputs": [],
   "source": [
    "%sql\n",
    "SELECT * FROM user_details_lookup('f3d4a9f9-47c5-4fba-96e9-c2c55fb20676')"
   ]
  },
  {
   "cell_type": "markdown",
   "metadata": {
    "application/vnd.databricks.v1+cell": {
     "cellMetadata": {},
     "inputWidgets": {},
     "nuid": "44d943db-21a9-4c7b-9b6a-fbe1e1781dd1",
     "showTitle": false,
     "tableResultSettingsMap": {},
     "title": ""
    }
   },
   "source": [
    "### Define the model prompt"
   ]
  },
  {
   "cell_type": "code",
   "execution_count": 0,
   "metadata": {
    "application/vnd.databricks.v1+cell": {
     "cellMetadata": {},
     "inputWidgets": {},
     "nuid": "7f17cc6a-7364-4b75-bb50-550dabfc3562",
     "showTitle": false,
     "tableResultSettingsMap": {},
     "title": ""
    }
   },
   "outputs": [],
   "source": [
    "prompt = \"\"\"\n",
    "    Your only role is to write copy for a contemporary apparel retailer. All your responses are a piece of copy, nothing further.\\n\n",
    "    You can use this tool to answer questions:\\n\n",
    "    - user_details: takes a customer User ID and returns the customer details for a given User ID. The return fields include First Name, User ID, Channel, Country, Gender, Age Group, Generation, Churn, days since last activity, and todays date (in this format: yyyy-MM-ddTHH:mm:ss.SSS). Use this function when User ID is given.\\n\n",
    "    These are the rules you must respect when writing copy:\n",
    "    - Always use todays_date in conjunction with country of residence to determine the current season of the year. This is a MANDATORY step.\\n\n",
    "    - Start every message by greeting the customer using their first_name. Do not include a final greeting.\\n\n",
    "    - Write in the language of the customers country of residenct.\\n\n",
    "    - Use the customers local language for the entire copy (do not mix languages). Never explicitly mention their country of residence.\\n\n",
    "    - Write short copy (SMS or Push Notification style) for canal PHONE and MOBILE, and long copy (email style) for canal WEBAPP\n",
    "    - Never mention a customers age or gender.\\n\n",
    "    - Adjust to the lingo of the customers generation. Never explicitly mention their generation.\\n\n",
    "    - Include weather references based on the current season of the year at their country of residence.\\n\n",
    "    - Adjust the length of the copy to their preferred communication channel. Never explicitly mention the channel.\\n\n",
    "    - Consider the time elapsed since the last event date when writing copy.\\n\n",
    "    - If churn is 1 and/or days since last activity is high, add urgency to the copy. Never explicitly mention churn status or days since last activity\\n\n",
    "    \"\"\""
   ]
  },
  {
   "cell_type": "markdown",
   "metadata": {
    "application/vnd.databricks.v1+cell": {
     "cellMetadata": {},
     "inputWidgets": {},
     "nuid": "2160b22c-86b8-4b10-bc73-73ea95b90dee",
     "showTitle": false,
     "tableResultSettingsMap": {},
     "title": ""
    }
   },
   "source": [
    "### Call the LLM with the model prompt + results of SQL function:"
   ]
  },
  {
   "cell_type": "code",
   "execution_count": 0,
   "metadata": {
    "application/vnd.databricks.v1+cell": {
     "cellMetadata": {},
     "inputWidgets": {},
     "nuid": "cffd0f4f-36dd-48c0-b707-c5b8ce8d1d16",
     "showTitle": false,
     "tableResultSettingsMap": {},
     "title": ""
    }
   },
   "outputs": [],
   "source": [
    "user_details_spain_webapp = spark.sql(\"SELECT * FROM user_details_lookup('f3d4a9f9-47c5-4fba-96e9-c2c55fb20676')\").toPandas().to_string(index=False)\n",
    "user_details_france_mobile = spark.sql(\"SELECT * FROM user_details_lookup('4734d799-1260-4d2e-b075-e8ada56fa902')\").toPandas().to_string(index=False)\n",
    "user_details_usa_phone = spark.sql(\"SELECT * FROM user_details_lookup('6d9ab038-f36d-4e91-81ea-746b34bf0fb3')\").toPandas().to_string(index=False)"
   ]
  },
  {
   "cell_type": "markdown",
   "metadata": {
    "application/vnd.databricks.v1+cell": {
     "cellMetadata": {},
     "inputWidgets": {},
     "nuid": "db9b55e3-800c-4b69-a518-4504baa6e805",
     "showTitle": false,
     "tableResultSettingsMap": {},
     "title": ""
    }
   },
   "source": [
    "### Example: Spanish Customer"
   ]
  },
  {
   "cell_type": "code",
   "execution_count": 0,
   "metadata": {
    "application/vnd.databricks.v1+cell": {
     "cellMetadata": {},
     "inputWidgets": {},
     "nuid": "6f8c1794-078b-465a-8305-821c97aba6b7",
     "showTitle": false,
     "tableResultSettingsMap": {},
     "title": ""
    }
   },
   "outputs": [],
   "source": [
    "model_request = prompt + user_details_spain_webapp"
   ]
  },
  {
   "cell_type": "code",
   "execution_count": 0,
   "metadata": {
    "application/vnd.databricks.v1+cell": {
     "cellMetadata": {},
     "inputWidgets": {},
     "nuid": "9bb57e11-a42f-44b2-b7cc-debf9cf82c1c",
     "showTitle": false,
     "tableResultSettingsMap": {},
     "title": ""
    }
   },
   "outputs": [],
   "source": [
    "model_response = spark.sql(\n",
    "  f\"\"\"\n",
    "  SELECT ai_query(\n",
    "  'databricks-meta-llama-3-1-405b-instruct',\n",
    "  '{model_request}'\n",
    "  ) AS model_response\n",
    "  \"\"\"\n",
    ")"
   ]
  },
  {
   "cell_type": "code",
   "execution_count": 0,
   "metadata": {
    "application/vnd.databricks.v1+cell": {
     "cellMetadata": {},
     "inputWidgets": {},
     "nuid": "01b9c787-6846-4439-8ad6-c37f36789f22",
     "showTitle": false,
     "tableResultSettingsMap": {},
     "title": ""
    }
   },
   "outputs": [],
   "source": [
    "display(model_response)"
   ]
  },
  {
   "cell_type": "markdown",
   "metadata": {
    "application/vnd.databricks.v1+cell": {
     "cellMetadata": {},
     "inputWidgets": {},
     "nuid": "dd824f27-cf88-40a5-9535-5bb066f4b645",
     "showTitle": false,
     "tableResultSettingsMap": {},
     "title": ""
    }
   },
   "source": [
    "### Example: American Customer"
   ]
  },
  {
   "cell_type": "code",
   "execution_count": 0,
   "metadata": {
    "application/vnd.databricks.v1+cell": {
     "cellMetadata": {},
     "inputWidgets": {},
     "nuid": "5234e9f0-9d8a-427b-8ed0-ca5fbb9964c5",
     "showTitle": false,
     "tableResultSettingsMap": {},
     "title": ""
    }
   },
   "outputs": [],
   "source": [
    "model_request = prompt + user_details_usa_phone"
   ]
  },
  {
   "cell_type": "code",
   "execution_count": 0,
   "metadata": {
    "application/vnd.databricks.v1+cell": {
     "cellMetadata": {},
     "inputWidgets": {},
     "nuid": "429c2478-a2fd-445a-8d20-7f00f8fa8c01",
     "showTitle": false,
     "tableResultSettingsMap": {},
     "title": ""
    }
   },
   "outputs": [],
   "source": [
    "model_response = spark.sql(\n",
    "  f\"\"\"\n",
    "  SELECT ai_query(\n",
    "  'databricks-meta-llama-3-1-405b-instruct',\n",
    "  '{model_request}'\n",
    "  ) AS model_response\n",
    "  \"\"\"\n",
    ")"
   ]
  },
  {
   "cell_type": "code",
   "execution_count": 0,
   "metadata": {
    "application/vnd.databricks.v1+cell": {
     "cellMetadata": {},
     "inputWidgets": {},
     "nuid": "caf16481-e86a-4ac3-816c-062cad0a5d58",
     "showTitle": false,
     "tableResultSettingsMap": {},
     "title": ""
    }
   },
   "outputs": [],
   "source": [
    "display(model_response)"
   ]
  },
  {
   "cell_type": "markdown",
   "metadata": {
    "application/vnd.databricks.v1+cell": {
     "cellMetadata": {},
     "inputWidgets": {},
     "nuid": "f2a8d279-e639-467d-96ae-1a32ca0b43bc",
     "showTitle": false,
     "tableResultSettingsMap": {},
     "title": ""
    }
   },
   "source": [
    "##Function 3: Image Generation with Shutterstock API"
   ]
  },
  {
   "cell_type": "code",
   "execution_count": 0,
   "metadata": {
    "application/vnd.databricks.v1+cell": {
     "cellMetadata": {},
     "inputWidgets": {},
     "nuid": "a57d4cf1-d7d0-4337-8980-898b5d6fc66b",
     "showTitle": false,
     "tableResultSettingsMap": {},
     "title": ""
    }
   },
   "outputs": [],
   "source": [
    "%sh \n",
    "pip install openai"
   ]
  },
  {
   "cell_type": "code",
   "execution_count": 0,
   "metadata": {
    "application/vnd.databricks.v1+cell": {
     "cellMetadata": {},
     "inputWidgets": {},
     "nuid": "bfd87bb1-44d2-4f10-be95-bb68f8a77661",
     "showTitle": false,
     "tableResultSettingsMap": {},
     "title": ""
    }
   },
   "outputs": [],
   "source": [
    "from openai import OpenAI\n",
    "import os"
   ]
  },
  {
   "cell_type": "code",
   "execution_count": 0,
   "metadata": {
    "application/vnd.databricks.v1+cell": {
     "cellMetadata": {},
     "inputWidgets": {},
     "nuid": "83405ff0-0246-4d6d-956d-a6b4d93d3b05",
     "showTitle": false,
     "tableResultSettingsMap": {},
     "title": ""
    }
   },
   "outputs": [],
   "source": [
    "# How to get your Databricks token: https://docs.databricks.com/en/dev-tools/auth/pat.html\n",
    "# DATABRICKS_TOKEN = os.environ.get('DATABRICKS_TOKEN')\n",
    "# Alternatively in a Databricks notebook you can use this:\n",
    "DATABRICKS_TOKEN = dbutils.notebook.entry_point.getDbutils().notebook().getContext().apiToken().get()\n",
    "\n",
    "client = OpenAI(\n",
    "    api_key=DATABRICKS_TOKEN,\n",
    "    base_url=\"https://e2-demo-field-eng.cloud.databricks.com/serving-endpoints\"\n",
    ")\n",
    "\n",
    "response = client.images.generate(\n",
    "    model=\"databricks-shutterstock-imageai\",\n",
    "    prompt = model_response.collect()[0][0] + \"IMPORTANT: IMAGES ONLY, NO TEXT!\"\n",
    ")\n",
    "\n",
    "# print(response.data[0].image[0])"
   ]
  },
  {
   "cell_type": "code",
   "execution_count": 0,
   "metadata": {
    "application/vnd.databricks.v1+cell": {
     "cellMetadata": {},
     "inputWidgets": {},
     "nuid": "dedd0e82-7968-44f2-acef-034708db28fa",
     "showTitle": false,
     "tableResultSettingsMap": {},
     "title": ""
    }
   },
   "outputs": [],
   "source": [
    "import io, base64\n",
    "from PIL import Image\n",
    "\n",
    "# Assuming base64_str is the string value without 'data:image/jpeg;base64,'\n",
    "img = Image.open(io.BytesIO(base64.decodebytes(bytes(response.data[0].b64_json, \"utf-8\"))))"
   ]
  },
  {
   "cell_type": "code",
   "execution_count": 0,
   "metadata": {
    "application/vnd.databricks.v1+cell": {
     "cellMetadata": {},
     "inputWidgets": {},
     "nuid": "dc2bc24a-44e9-4d22-ab19-efa7847c9b6f",
     "showTitle": false,
     "tableResultSettingsMap": {},
     "title": ""
    }
   },
   "outputs": [],
   "source": [
    "display(img)"
   ]
  },
  {
   "cell_type": "markdown",
   "metadata": {
    "application/vnd.databricks.v1+cell": {
     "cellMetadata": {},
     "inputWidgets": {},
     "nuid": "d7cfa9db-89c5-4518-9836-c02c77135218",
     "showTitle": false,
     "tableResultSettingsMap": {},
     "title": ""
    }
   },
   "source": [
    "## Next Steps\n",
    "\n",
    "Proceed to notebook **05.2-Agent-Creation-Guide** in order to package the above functions into an implementable AI Agent with Databricks!"
   ]
  }
 ],
 "metadata": {
  "application/vnd.databricks.v1+notebook": {
   "computePreferences": null,
   "dashboards": [],
   "environmentMetadata": {
    "base_environment": "",
    "environment_version": "2"
   },
   "language": "python",
   "notebookMetadata": {
    "pythonIndentUnit": 4
   },
   "notebookName": "05.1-Agent-Functions-Creation",
   "widgets": {}
  },
  "language_info": {
   "name": "python"
  }
 },
 "nbformat": 4,
 "nbformat_minor": 0
}
